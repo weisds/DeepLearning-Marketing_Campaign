{
  "nbformat": 4,
  "nbformat_minor": 0,
  "metadata": {
    "colab": {
      "name": "Copy of DeepLearning-Marketing_Campaign.ipynb",
      "provenance": [],
      "authorship_tag": "ABX9TyMtPY26+bqtmZPsOhI+f4ZV",
      "include_colab_link": true
    },
    "kernelspec": {
      "name": "python3",
      "display_name": "Python 3"
    },
    "language_info": {
      "name": "python"
    }
  },
  "cells": [
    {
      "cell_type": "markdown",
      "metadata": {
        "id": "view-in-github",
        "colab_type": "text"
      },
      "source": [
        "<a href=\"https://colab.research.google.com/github/weisds/DeepLearning-Marketing_Campaign/blob/main/DeepLearning_Marketing_Campaign.ipynb\" target=\"_parent\"><img src=\"https://colab.research.google.com/assets/colab-badge.svg\" alt=\"Open In Colab\"/></a>"
      ]
    },
    {
      "cell_type": "code",
      "execution_count": null,
      "metadata": {
        "colab": {
          "base_uri": "https://localhost:8080/"
        },
        "id": "XkDhHwET55wr",
        "outputId": "84c072a4-5cd9-427d-dbb0-eaca99816048"
      },
      "outputs": [
        {
          "output_type": "stream",
          "name": "stdout",
          "text": [
            "Drive already mounted at /content/drive; to attempt to forcibly remount, call drive.mount(\"/content/drive\", force_remount=True).\n"
          ]
        }
      ],
      "source": [
        "#@title Import libraries\n",
        "import numpy as np \n",
        "import pandas as pd \n",
        "\n",
        "import matplotlib.pyplot as plt\n",
        "import seaborn as sns\n",
        "\n",
        "from sklearn.model_selection import StratifiedShuffleSplit\n",
        "from sklearn.linear_model import LogisticRegression\n",
        "from sklearn.linear_model import LogisticRegressionCV\n",
        "\n",
        "from sklearn.metrics import precision_recall_fscore_support as score\n",
        "from sklearn.metrics import confusion_matrix, precision_recall_curve, roc_auc_score, roc_curve, accuracy_score\n",
        "from sklearn.preprocessing import label_binarize\n",
        "\n",
        "from sklearn.preprocessing import StandardScaler\n",
        "\n",
        "## Import Keras objects for Deep Learning\n",
        "from keras.models  import Sequential\n",
        "from keras.layers import Input, Dense, Flatten, Dropout, BatchNormalization\n",
        "from tensorflow.keras.optimizers import Adam, SGD, RMSprop\n",
        "\n",
        "\n",
        "from google.colab import drive\n",
        "drive.mount('/content/drive')"
      ]
    },
    {
      "cell_type": "markdown",
      "source": [
        "#Objective\n",
        "The objective in this study is to create a binary classifition model with neural nets to predict if the customer will accept the offer in a marketing campaign or not. Also to understand what determines this end result by looking at the feature improtance of the model.\n",
        "\n",
        "#Data\n",
        "This dataset is from Kaggle called [Marketing Campaign](https://www.kaggle.com/datasets/rodsaldanha/arketing-campaign). This data dataset contains 29 columns and 2240 rows, covering information around time the customer was with the company, average spending in different product, number web visits, etc. The target variable is Response, a binary column indicating whether the customer accepted the offer or not."
      ],
      "metadata": {
        "id": "1MUeEepUN9Tj"
      }
    },
    {
      "cell_type": "code",
      "source": [
        "#@title EDA and cleaning\n",
        "#@markdown <ol><li>Find and replace nulls</li><li>seperate categorical and numeric data</li> <li>One-hot and lable encode data</li> <li>finding and cleaning outliers</li</ol> \n",
        "#@markdown \n",
        "df = pd.read_csv('/content/drive/MyDrive/Coursera/Dataset/marketing_campaign.csv', sep=\";\")"
      ],
      "metadata": {
        "id": "_GOOnr4ZOAIP"
      },
      "execution_count": null,
      "outputs": []
    },
    {
      "cell_type": "code",
      "source": [
        "df.isnull().sum()"
      ],
      "metadata": {
        "colab": {
          "base_uri": "https://localhost:8080/"
        },
        "id": "L0q2g2hPOFtN",
        "outputId": "7b87b27d-22c7-4c21-936f-247baba68883"
      },
      "execution_count": null,
      "outputs": [
        {
          "output_type": "execute_result",
          "data": {
            "text/plain": [
              "ID                      0\n",
              "Year_Birth              0\n",
              "Education               0\n",
              "Marital_Status          0\n",
              "Income                 24\n",
              "Kidhome                 0\n",
              "Teenhome                0\n",
              "Dt_Customer             0\n",
              "Recency                 0\n",
              "MntWines                0\n",
              "MntFruits               0\n",
              "MntMeatProducts         0\n",
              "MntFishProducts         0\n",
              "MntSweetProducts        0\n",
              "MntGoldProds            0\n",
              "NumDealsPurchases       0\n",
              "NumWebPurchases         0\n",
              "NumCatalogPurchases     0\n",
              "NumStorePurchases       0\n",
              "NumWebVisitsMonth       0\n",
              "AcceptedCmp3            0\n",
              "AcceptedCmp4            0\n",
              "AcceptedCmp5            0\n",
              "AcceptedCmp1            0\n",
              "AcceptedCmp2            0\n",
              "Complain                0\n",
              "Z_CostContact           0\n",
              "Z_Revenue               0\n",
              "Response                0\n",
              "dtype: int64"
            ]
          },
          "metadata": {},
          "execution_count": 218
        }
      ]
    },
    {
      "cell_type": "code",
      "source": [
        "#replace null with mean\n",
        "df['Income'] = df['Income'].fillna(value=df['Income'].mean())"
      ],
      "metadata": {
        "id": "UOaxCuM4OHiB"
      },
      "execution_count": null,
      "outputs": []
    },
    {
      "cell_type": "code",
      "source": [
        "#check the different types of data, planning for transforming data\n",
        "df.dtypes.value_counts()"
      ],
      "metadata": {
        "colab": {
          "base_uri": "https://localhost:8080/"
        },
        "id": "69elQZAYOL_u",
        "outputId": "17f8c472-4905-4007-efb4-152e9c3b4239"
      },
      "execution_count": null,
      "outputs": [
        {
          "output_type": "execute_result",
          "data": {
            "text/plain": [
              "int64      25\n",
              "object      3\n",
              "float64     1\n",
              "dtype: int64"
            ]
          },
          "metadata": {},
          "execution_count": 220
        }
      ]
    },
    {
      "cell_type": "code",
      "source": [
        "#set X and y\n",
        "y = df.Response\n",
        "X = df.drop(['Response','ID'], axis=1)"
      ],
      "metadata": {
        "id": "Mx1eENaQON70"
      },
      "execution_count": null,
      "outputs": []
    },
    {
      "cell_type": "code",
      "source": [
        "#let split the data for more targeted handling\n",
        "txt_cols = [cname for cname in X.columns if df[cname].dtype == \"object\"]\n",
        "\n",
        "# Select numerical columns\n",
        "num_cols = [cname for cname in X.columns if df[cname].dtype in ['int64', 'float64']]"
      ],
      "metadata": {
        "id": "GeAi3m0LOQPe"
      },
      "execution_count": null,
      "outputs": []
    },
    {
      "cell_type": "code",
      "source": [
        "#have an overview on the txt unique data, to determine onehot, ordinal, or type transfromation \n",
        "txt_uniques = pd.DataFrame([[i, len(X[i].unique()), X[i].unique()] for i in X[txt_cols]], columns=['Variable', 'number of Unique Values', 'Unique Values']).set_index('Variable')\n",
        "txt_uniques"
      ],
      "metadata": {
        "colab": {
          "base_uri": "https://localhost:8080/",
          "height": 175
        },
        "id": "yp5K52bAOSI6",
        "outputId": "ffab5708-54c2-436e-9dd4-335c384f85d6"
      },
      "execution_count": null,
      "outputs": [
        {
          "output_type": "execute_result",
          "data": {
            "text/plain": [
              "                number of Unique Values  \\\n",
              "Variable                                  \n",
              "Education                             5   \n",
              "Marital_Status                        8   \n",
              "Dt_Customer                         663   \n",
              "\n",
              "                                                    Unique Values  \n",
              "Variable                                                           \n",
              "Education              [Graduation, PhD, Master, Basic, 2n Cycle]  \n",
              "Marital_Status  [Single, Together, Married, Divorced, Widow, A...  \n",
              "Dt_Customer     [2012-09-04, 2014-03-08, 2013-08-21, 2014-02-1...  "
            ],
            "text/html": [
              "\n",
              "  <div id=\"df-d96be120-cc70-445e-9fbb-7246865948c4\">\n",
              "    <div class=\"colab-df-container\">\n",
              "      <div>\n",
              "<style scoped>\n",
              "    .dataframe tbody tr th:only-of-type {\n",
              "        vertical-align: middle;\n",
              "    }\n",
              "\n",
              "    .dataframe tbody tr th {\n",
              "        vertical-align: top;\n",
              "    }\n",
              "\n",
              "    .dataframe thead th {\n",
              "        text-align: right;\n",
              "    }\n",
              "</style>\n",
              "<table border=\"1\" class=\"dataframe\">\n",
              "  <thead>\n",
              "    <tr style=\"text-align: right;\">\n",
              "      <th></th>\n",
              "      <th>number of Unique Values</th>\n",
              "      <th>Unique Values</th>\n",
              "    </tr>\n",
              "    <tr>\n",
              "      <th>Variable</th>\n",
              "      <th></th>\n",
              "      <th></th>\n",
              "    </tr>\n",
              "  </thead>\n",
              "  <tbody>\n",
              "    <tr>\n",
              "      <th>Education</th>\n",
              "      <td>5</td>\n",
              "      <td>[Graduation, PhD, Master, Basic, 2n Cycle]</td>\n",
              "    </tr>\n",
              "    <tr>\n",
              "      <th>Marital_Status</th>\n",
              "      <td>8</td>\n",
              "      <td>[Single, Together, Married, Divorced, Widow, A...</td>\n",
              "    </tr>\n",
              "    <tr>\n",
              "      <th>Dt_Customer</th>\n",
              "      <td>663</td>\n",
              "      <td>[2012-09-04, 2014-03-08, 2013-08-21, 2014-02-1...</td>\n",
              "    </tr>\n",
              "  </tbody>\n",
              "</table>\n",
              "</div>\n",
              "      <button class=\"colab-df-convert\" onclick=\"convertToInteractive('df-d96be120-cc70-445e-9fbb-7246865948c4')\"\n",
              "              title=\"Convert this dataframe to an interactive table.\"\n",
              "              style=\"display:none;\">\n",
              "        \n",
              "  <svg xmlns=\"http://www.w3.org/2000/svg\" height=\"24px\"viewBox=\"0 0 24 24\"\n",
              "       width=\"24px\">\n",
              "    <path d=\"M0 0h24v24H0V0z\" fill=\"none\"/>\n",
              "    <path d=\"M18.56 5.44l.94 2.06.94-2.06 2.06-.94-2.06-.94-.94-2.06-.94 2.06-2.06.94zm-11 1L8.5 8.5l.94-2.06 2.06-.94-2.06-.94L8.5 2.5l-.94 2.06-2.06.94zm10 10l.94 2.06.94-2.06 2.06-.94-2.06-.94-.94-2.06-.94 2.06-2.06.94z\"/><path d=\"M17.41 7.96l-1.37-1.37c-.4-.4-.92-.59-1.43-.59-.52 0-1.04.2-1.43.59L10.3 9.45l-7.72 7.72c-.78.78-.78 2.05 0 2.83L4 21.41c.39.39.9.59 1.41.59.51 0 1.02-.2 1.41-.59l7.78-7.78 2.81-2.81c.8-.78.8-2.07 0-2.86zM5.41 20L4 18.59l7.72-7.72 1.47 1.35L5.41 20z\"/>\n",
              "  </svg>\n",
              "      </button>\n",
              "      \n",
              "  <style>\n",
              "    .colab-df-container {\n",
              "      display:flex;\n",
              "      flex-wrap:wrap;\n",
              "      gap: 12px;\n",
              "    }\n",
              "\n",
              "    .colab-df-convert {\n",
              "      background-color: #E8F0FE;\n",
              "      border: none;\n",
              "      border-radius: 50%;\n",
              "      cursor: pointer;\n",
              "      display: none;\n",
              "      fill: #1967D2;\n",
              "      height: 32px;\n",
              "      padding: 0 0 0 0;\n",
              "      width: 32px;\n",
              "    }\n",
              "\n",
              "    .colab-df-convert:hover {\n",
              "      background-color: #E2EBFA;\n",
              "      box-shadow: 0px 1px 2px rgba(60, 64, 67, 0.3), 0px 1px 3px 1px rgba(60, 64, 67, 0.15);\n",
              "      fill: #174EA6;\n",
              "    }\n",
              "\n",
              "    [theme=dark] .colab-df-convert {\n",
              "      background-color: #3B4455;\n",
              "      fill: #D2E3FC;\n",
              "    }\n",
              "\n",
              "    [theme=dark] .colab-df-convert:hover {\n",
              "      background-color: #434B5C;\n",
              "      box-shadow: 0px 1px 3px 1px rgba(0, 0, 0, 0.15);\n",
              "      filter: drop-shadow(0px 1px 2px rgba(0, 0, 0, 0.3));\n",
              "      fill: #FFFFFF;\n",
              "    }\n",
              "  </style>\n",
              "\n",
              "      <script>\n",
              "        const buttonEl =\n",
              "          document.querySelector('#df-d96be120-cc70-445e-9fbb-7246865948c4 button.colab-df-convert');\n",
              "        buttonEl.style.display =\n",
              "          google.colab.kernel.accessAllowed ? 'block' : 'none';\n",
              "\n",
              "        async function convertToInteractive(key) {\n",
              "          const element = document.querySelector('#df-d96be120-cc70-445e-9fbb-7246865948c4');\n",
              "          const dataTable =\n",
              "            await google.colab.kernel.invokeFunction('convertToInteractive',\n",
              "                                                     [key], {});\n",
              "          if (!dataTable) return;\n",
              "\n",
              "          const docLinkHtml = 'Like what you see? Visit the ' +\n",
              "            '<a target=\"_blank\" href=https://colab.research.google.com/notebooks/data_table.ipynb>data table notebook</a>'\n",
              "            + ' to learn more about interactive tables.';\n",
              "          element.innerHTML = '';\n",
              "          dataTable['output_type'] = 'display_data';\n",
              "          await google.colab.output.renderOutput(dataTable, element);\n",
              "          const docLink = document.createElement('div');\n",
              "          docLink.innerHTML = docLinkHtml;\n",
              "          element.appendChild(docLink);\n",
              "        }\n",
              "      </script>\n",
              "    </div>\n",
              "  </div>\n",
              "  "
            ]
          },
          "metadata": {},
          "execution_count": 223
        }
      ]
    },
    {
      "cell_type": "code",
      "source": [
        "#ordinal data transformation dependng on the education level\n",
        "from sklearn.preprocessing import OrdinalEncoder\n",
        "oen = OrdinalEncoder(categories=[['Basic','Graduation','2n Cycle', 'Master', 'PhD']])\n",
        "X['Education'] = oen.fit_transform(X[['Education']])"
      ],
      "metadata": {
        "id": "T0vjzSlqOUi7"
      },
      "execution_count": null,
      "outputs": []
    },
    {
      "cell_type": "code",
      "source": [
        "#onehot transfromation for nominal data\n",
        "from sklearn.preprocessing import OneHotEncoder #OneHot Encoder\n",
        "OH_en = OneHotEncoder(handle_unknown='ignore', sparse=False)\n",
        "imp_txt_cols = OH_en.fit_transform(df[['Marital_Status']])\n",
        "imp_txt_cols = pd.DataFrame(imp_txt_cols)\n",
        "#now we align the index and col names\n",
        "imp_txt_cols.index = df[['Marital_Status']].index\n",
        "imp_txt_cols.columns = OH_en.get_feature_names(['Marital_Status'])\n",
        "X=X.drop(['Marital_Status'], axis=1).join(imp_txt_cols)"
      ],
      "metadata": {
        "colab": {
          "base_uri": "https://localhost:8080/"
        },
        "id": "tA__W_N_OWlD",
        "outputId": "1ab0eac4-d888-4b90-ece3-d3d9fe13f669"
      },
      "execution_count": null,
      "outputs": [
        {
          "output_type": "stream",
          "name": "stderr",
          "text": [
            "/usr/local/lib/python3.7/dist-packages/sklearn/utils/deprecation.py:87: FutureWarning: Function get_feature_names is deprecated; get_feature_names is deprecated in 1.0 and will be removed in 1.2. Please use get_feature_names_out instead.\n",
            "  warnings.warn(msg, category=FutureWarning)\n"
          ]
        }
      ]
    },
    {
      "cell_type": "code",
      "source": [
        "#creating new feature - Tenure, drop the date column - Dt_Customer as we are not using it in later analysis\n",
        "maxDate = pd.to_datetime(X.Dt_Customer).max()\n",
        "tenure = maxDate - pd.to_datetime(X.Dt_Customer)\n",
        "X['Tenure'] = tenure.dt.days\n",
        "X = X.drop(['Dt_Customer'], axis=1)"
      ],
      "metadata": {
        "id": "aGaaF8FmOYZy"
      },
      "execution_count": null,
      "outputs": []
    },
    {
      "cell_type": "code",
      "source": [
        "#get the continuous values\n",
        "num_uniques = pd.DataFrame([[i, len(X[i].unique()), X[i].unique()] for i in X[num_cols]], columns=['Variable', 'number of Unique Values', 'Unique Values']).set_index('Variable')\n",
        "num_variables_with_ol = list(num_uniques[num_uniques['number of Unique Values'] > 10].index)"
      ],
      "metadata": {
        "id": "bdr5sLKgOgTF"
      },
      "execution_count": null,
      "outputs": []
    },
    {
      "cell_type": "code",
      "source": [
        "#@title Identifying columns with outliers\n",
        "X[num_variables_with_ol].hist()"
      ],
      "metadata": {
        "colab": {
          "base_uri": "https://localhost:8080/",
          "height": 576
        },
        "id": "4CRBKEkvOjsi",
        "outputId": "1d5bec96-c41b-41f2-c7f4-01215620abd6"
      },
      "execution_count": null,
      "outputs": [
        {
          "output_type": "execute_result",
          "data": {
            "text/plain": [
              "array([[<matplotlib.axes._subplots.AxesSubplot object at 0x7f2e9e46cbd0>,\n",
              "        <matplotlib.axes._subplots.AxesSubplot object at 0x7f2e9e08cd50>,\n",
              "        <matplotlib.axes._subplots.AxesSubplot object at 0x7f2e989f2f90>,\n",
              "        <matplotlib.axes._subplots.AxesSubplot object at 0x7f2e989b24d0>],\n",
              "       [<matplotlib.axes._subplots.AxesSubplot object at 0x7f2e989699d0>,\n",
              "        <matplotlib.axes._subplots.AxesSubplot object at 0x7f2e9891fed0>,\n",
              "        <matplotlib.axes._subplots.AxesSubplot object at 0x7f2e988e1490>,\n",
              "        <matplotlib.axes._subplots.AxesSubplot object at 0x7f2e988988d0>],\n",
              "       [<matplotlib.axes._subplots.AxesSubplot object at 0x7f2e98898910>,\n",
              "        <matplotlib.axes._subplots.AxesSubplot object at 0x7f2e9884ff10>,\n",
              "        <matplotlib.axes._subplots.AxesSubplot object at 0x7f2e987c8850>,\n",
              "        <matplotlib.axes._subplots.AxesSubplot object at 0x7f2e91770cd0>],\n",
              "       [<matplotlib.axes._subplots.AxesSubplot object at 0x7f2e917341d0>,\n",
              "        <matplotlib.axes._subplots.AxesSubplot object at 0x7f2e916e96d0>,\n",
              "        <matplotlib.axes._subplots.AxesSubplot object at 0x7f2e9171ebd0>,\n",
              "        <matplotlib.axes._subplots.AxesSubplot object at 0x7f2e98a32690>]],\n",
              "      dtype=object)"
            ]
          },
          "metadata": {},
          "execution_count": 228
        },
        {
          "output_type": "display_data",
          "data": {
            "text/plain": [
              "<Figure size 432x288 with 16 Axes>"
            ],
            "image/png": "[encoded data removed]"
          },
          "metadata": {
            "needs_background": "light"
          }
        }
      ]
    },
    {
      "cell_type": "code",
      "source": [
        "#@title Romoving features with no outliers\n",
        "no_outliers = ['Recency','MntFruits','MntMeatProducts','MntFishProducts','MntSweetProducts','MntGoldProds','NumDealsPurchases']\n",
        "\n",
        "for item in no_outliers:\n",
        "  num_variables_with_ol.remove(item)"
      ],
      "metadata": {
        "id": "6ZmvVYmwOmVy"
      },
      "execution_count": null,
      "outputs": []
    },
    {
      "cell_type": "code",
      "source": [
        "#@title Using the 1.5 * IQR approach to create upper and lower fance to extract outliers\n",
        "def outliers(df, ft):\n",
        "  Q1 = df[ft].quantile(0.25)\n",
        "  Q3 = df[ft].quantile(0.75)\n",
        "  IQR = Q3 - Q1\n",
        "\n",
        "  lower_b = Q1 - 1.5 * IQR\n",
        "  uppper_b = Q3 + 1.5 * IQR\n",
        "  ls = df.index[(df[ft] < lower_b) | (df[ft] > uppper_b)]\n",
        "  return ls"
      ],
      "metadata": {
        "id": "iWpHWKBiOpHM"
      },
      "execution_count": null,
      "outputs": []
    },
    {
      "cell_type": "code",
      "source": [
        "#creating and filling in the outlier list\n",
        "from pandas._libs import index\n",
        "index_list = []\n",
        "for feature in num_variables_with_ol:\n",
        "  index_list.extend(outliers(X, feature))"
      ],
      "metadata": {
        "id": "3YyDWb5yOqx9"
      },
      "execution_count": null,
      "outputs": []
    },
    {
      "cell_type": "code",
      "source": [
        "#droping the outliers\n",
        "index_list = sorted(set(index_list))\n",
        "X = X.drop(index_list)\n",
        "y = y.drop(index_list)"
      ],
      "metadata": {
        "id": "eIS_H7jQOsmK"
      },
      "execution_count": null,
      "outputs": []
    },
    {
      "cell_type": "code",
      "source": [
        "#making sure X and y have the same length\n",
        "X.shape[0] == y.shape[0]"
      ],
      "metadata": {
        "colab": {
          "base_uri": "https://localhost:8080/"
        },
        "id": "uX77IvW6Ot9Q",
        "outputId": "22104861-8756-45d1-9c37-540538c6d500"
      },
      "execution_count": null,
      "outputs": [
        {
          "output_type": "execute_result",
          "data": {
            "text/plain": [
              "True"
            ]
          },
          "metadata": {},
          "execution_count": 233
        }
      ]
    },
    {
      "cell_type": "markdown",
      "source": [
        "#   Modeling and Conclusion\n",
        "In this section, three deep learning variations were attempted. The objective was to see which neural network variation works best by comparing the accuracy score. We tested the outcomes against the target feature to evaluate models.  We tested neural network with one layer sigmoid, two layers sigmoid, and two layers relu. Following the modeling analysis, the results showed that the two layers sigmoid network structure yeilds the best result, with an accuracy score of 88.9%, whereas the other two models scored almost the same at around 87%.  As such, based on this study, we recommand using the two layers sigmoid structure to build out the neural network predictor. However, in previous study, this data was attempted with RandomForestClassifier and had an accuracy score of 97%. Therefore, we recommand against using deep learning techniques for this data if other options were avaliable. Lastly, we ran a feature importance analysis with the best scored model. The result shows that longer a customer has not purchased from the website is likely will accept the offer. This result also impacted by how long the customer is with the company and if the customer accepted offers in campaign number 3."
      ],
      "metadata": {
        "id": "7LE2ndXsGjXe"
      }
    },
    {
      "cell_type": "code",
      "source": [
        "#disproprotional outcome so using StratifiedShuffleSplit to get train and test set\n",
        "sss = StratifiedShuffleSplit(n_splits=1, random_state=666, test_size=0.3)\n",
        "train_i, test_i = next(sss.split(X, y))\n",
        "X_train = X.iloc[train_i]\n",
        "y_train = y.iloc[train_i]\n",
        "X_test = X.iloc[test_i]\n",
        "y_test = y.iloc[test_i]\n"
      ],
      "metadata": {
        "id": "Fn3gZCv_RgYW"
      },
      "execution_count": null,
      "outputs": []
    },
    {
      "cell_type": "code",
      "source": [
        "## First let's normalize the data\n",
        "\n",
        "normalizer = StandardScaler()\n",
        "X_train_norm = normalizer.fit_transform(X_train)\n",
        "X_test_norm = normalizer.transform(X_test)"
      ],
      "metadata": {
        "id": "7E6Qcps5RYjd"
      },
      "execution_count": null,
      "outputs": []
    },
    {
      "cell_type": "code",
      "source": [
        "# Define the Model \n",
        "\n",
        "model_sm_1 = Sequential()\n",
        "model_sm_1.add(Dense(16,input_shape = (len(X.columns),),activation = 'sigmoid'))\n",
        "model_sm_1.add(Dense(1,activation='sigmoid'))"
      ],
      "metadata": {
        "id": "0xc7hcvFWg7_"
      },
      "execution_count": null,
      "outputs": []
    },
    {
      "cell_type": "code",
      "source": [
        "# Fit(Train) the Model\n",
        "\n",
        "model_sm_1.compile(SGD(lr = .003), \"binary_crossentropy\", metrics=[\"accuracy\"])\n",
        "run_hist_1 = model_sm_1.fit(X_train_norm, y_train, validation_data=(X_test_norm, y_test), epochs=200)"
      ],
      "metadata": {
        "id": "5VBhZ8X4XBbz"
      },
      "execution_count": null,
      "outputs": []
    },
    {
      "cell_type": "code",
      "source": [
        "#default outputs probability, need to convert it to the two classes\n",
        "y_pred_sm_1= (model_sm_1.predict(X_test_norm) > 0.5).astype('int32')"
      ],
      "metadata": {
        "id": "035p21rkXJHx"
      },
      "execution_count": null,
      "outputs": []
    },
    {
      "cell_type": "code",
      "source": [
        "print('accuracy is {:.3f}'.format(accuracy_score(y_test,y_pred_sm_1)))\n",
        "print('roc-auc is {:.3f}'.format(roc_auc_score(y_test,y_pred_sm_1)))"
      ],
      "metadata": {
        "colab": {
          "base_uri": "https://localhost:8080/"
        },
        "id": "3dAnsaydXL6q",
        "outputId": "8835305d-80a8-4540-cbf2-a404ecfe6116"
      },
      "execution_count": null,
      "outputs": [
        {
          "output_type": "stream",
          "name": "stdout",
          "text": [
            "accuracy is 0.874\n",
            "roc-auc is 0.572\n"
          ]
        }
      ]
    },
    {
      "cell_type": "code",
      "source": [
        "#attempt with an additional layer\n",
        "model_sm_2 = Sequential()\n",
        "model_sm_2.add(Dense(16,input_shape = (len(X.columns),),activation = 'sigmoid'))\n",
        "model_sm_2.add(Dense(16,activation = 'sigmoid'))\n",
        "model_sm_2.add(Dense(1,activation='sigmoid'))\n",
        "\n",
        "model_sm_2.compile(SGD(lr = .003), \"binary_crossentropy\", metrics=[\"accuracy\"])\n",
        "run_hist_2 = model_sm_2.fit(X_train_norm, y_train, validation_data=(X_test_norm, y_test), epochs=1000)"
      ],
      "metadata": {
        "id": "ahABxgqY7sE4"
      },
      "execution_count": null,
      "outputs": []
    },
    {
      "cell_type": "code",
      "source": [
        "y_pred_sm_2= (model_sm_2.predict(X_test_norm) > 0.5).astype('int32')\n",
        "\n",
        "print('accuracy is {:.3f}'.format(accuracy_score(y_test,y_pred_sm_2)))\n",
        "print('roc-auc is {:.3f}'.format(roc_auc_score(y_test,y_pred_sm_2)))"
      ],
      "metadata": {
        "colab": {
          "base_uri": "https://localhost:8080/"
        },
        "id": "jjqJot7t9M40",
        "outputId": "caeaa355-c1cf-4636-d180-468b840e97f9"
      },
      "execution_count": null,
      "outputs": [
        {
          "output_type": "stream",
          "name": "stdout",
          "text": [
            "accuracy is 0.889\n",
            "roc-auc is 0.699\n"
          ]
        }
      ]
    },
    {
      "cell_type": "code",
      "source": [
        "#attempt relu as the activation function\n",
        "model_rl_2 = Sequential()\n",
        "model_rl_2.add(Dense(16,input_shape = (len(X.columns),),activation = 'relu'))\n",
        "model_rl_2.add(Dense(16,activation = 'relu'))\n",
        "model_rl_2.add(Dense(1,activation='relu'))\n",
        "\n",
        "model_rl_2.compile(SGD(lr = .003), \"binary_crossentropy\", metrics=[\"accuracy\"])\n",
        "run_hist_rl_2 = model_rl_2.fit(X_train_norm, y_train, validation_data=(X_test_norm, y_test), epochs=1000)"
      ],
      "metadata": {
        "id": "HZMtXBzs8Xmb"
      },
      "execution_count": null,
      "outputs": []
    },
    {
      "cell_type": "code",
      "source": [
        "y_pred_rl_2= (model_rl_2.predict(X_test_norm) > 0.5).astype('int32')\n",
        "\n",
        "print('accuracy is {:.3f}'.format(accuracy_score(y_test,y_pred_rl_2)))\n",
        "print('roc-auc is {:.3f}'.format(roc_auc_score(y_test,y_pred_rl_2)))"
      ],
      "metadata": {
        "colab": {
          "base_uri": "https://localhost:8080/"
        },
        "id": "LRmT4bKk-Czt",
        "outputId": "0c9a827c-6341-44d4-c2b9-197bdfa4d524"
      },
      "execution_count": null,
      "outputs": [
        {
          "output_type": "stream",
          "name": "stdout",
          "text": [
            "accuracy is 0.877\n",
            "roc-auc is 0.729\n"
          ]
        }
      ]
    },
    {
      "cell_type": "code",
      "source": [
        "import shap\n",
        "\n",
        "explainer = shap.DeepExplainer(model_sm_2, X_train_norm)\n",
        "shap_values = explainer.shap_values(X_test_norm)"
      ],
      "metadata": {
        "colab": {
          "base_uri": "https://localhost:8080/"
        },
        "id": "zjPbBY95X6Ul",
        "outputId": "db205146-8e4b-481f-b205-1d64f063bff9"
      },
      "execution_count": null,
      "outputs": [
        {
          "output_type": "stream",
          "name": "stderr",
          "text": [
            "Your TensorFlow version is newer than 2.4.0 and so graph support has been removed in eager mode and some static graphs may not be supported. See PR #1483 for discussion.\n",
            "`tf.keras.backend.set_learning_phase` is deprecated and will be removed after 2020-10-11. To update it, simply pass a True/False value to the `training` argument of the `__call__` method of your layer or model.\n"
          ]
        }
      ]
    },
    {
      "cell_type": "code",
      "source": [
        "shap.summary_plot(shap_values[0], plot_type = 'bar', feature_names = X.columns)"
      ],
      "metadata": {
        "colab": {
          "base_uri": "https://localhost:8080/",
          "height": 693
        },
        "id": "9auYkPQgbXFI",
        "outputId": "ae64a1d3-e1be-4328-af9f-9fe0e1fd4aef"
      },
      "execution_count": null,
      "outputs": [
        {
          "output_type": "display_data",
          "data": {
            "text/plain": [
              "<Figure size 576x684 with 1 Axes>"
            ],
            "image/png": "[encoded data removed]"
          },
          "metadata": {
            "needs_background": "light"
          }
        }
      ]
    }
  ]
}